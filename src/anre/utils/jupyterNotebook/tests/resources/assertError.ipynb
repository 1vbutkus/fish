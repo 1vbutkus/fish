{
 "cells": [
  {
   "metadata": {},
   "cell_type": "markdown",
   "source": "# With error",
   "id": "d8dfa498524190cd"
  },
  {
   "metadata": {
    "tags": [
     "parameters"
    ]
   },
   "cell_type": "code",
   "outputs": [],
   "execution_count": null,
   "source": [
    "x = 1\n",
    "y = None"
   ],
   "id": "645db55da41bfd9c"
  },
  {
   "metadata": {},
   "cell_type": "code",
   "outputs": [],
   "execution_count": null,
   "source": [
    "from anre.utils.jupyterNotebook.jupyterNotebook import JupyterNotebook  # noqa: E402\n",
    "\n",
    "JupyterNotebook.setup_screen(interactive=False)\n"
   ],
   "id": "47acf54fc9dd13c1"
  },
  {
   "metadata": {},
   "cell_type": "code",
   "outputs": [],
   "execution_count": null,
   "source": "assert x < 0",
   "id": "a488b2b0a8f62184"
  }
 ],
 "metadata": {
  "kernelspec": {
   "display_name": "Python 3",
   "language": "python",
   "name": "python3"
  },
  "language_info": {
   "codemirror_mode": {
    "name": "ipython",
    "version": 2
   },
   "file_extension": ".py",
   "mimetype": "text/x-python",
   "name": "python",
   "nbconvert_exporter": "python",
   "pygments_lexer": "ipython2",
   "version": "2.7.6"
  }
 },
 "nbformat": 4,
 "nbformat_minor": 5
}
